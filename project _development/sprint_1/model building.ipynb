{
 "cells": [
  {
   "cell_type": "code",
   "execution_count": 28,
   "id": "8addc6eb",
   "metadata": {},
   "outputs": [],
   "source": [
    "import pandas as pd\n",
    "import numpy as np\n",
    "import matplotlib.pyplot as plt"
   ]
  },
  {
   "cell_type": "code",
   "execution_count": 29,
   "id": "25f812b0",
   "metadata": {},
   "outputs": [],
   "source": [
    "dv=pd.read_csv(\"Crude Oil Prices Daily.csv\")"
   ]
  },
  {
   "cell_type": "code",
   "execution_count": 30,
   "id": "3b832c29",
   "metadata": {},
   "outputs": [
    {
     "data": {
      "text/plain": [
       "Date             False\n",
       "Closing Value     True\n",
       "dtype: bool"
      ]
     },
     "execution_count": 30,
     "metadata": {},
     "output_type": "execute_result"
    }
   ],
   "source": [
    "dv.isnull().any()"
   ]
  },
  {
   "cell_type": "code",
   "execution_count": 31,
   "id": "693a9a06",
   "metadata": {},
   "outputs": [
    {
     "data": {
      "text/plain": [
       "Date             0\n",
       "Closing Value    7\n",
       "dtype: int64"
      ]
     },
     "execution_count": 31,
     "metadata": {},
     "output_type": "execute_result"
    }
   ],
   "source": [
    "dv.isnull().sum()"
   ]
  },
  {
   "cell_type": "code",
   "execution_count": 32,
   "id": "a92ccf9b",
   "metadata": {},
   "outputs": [],
   "source": [
    "dv.dropna(axis=0,inplace=True)"
   ]
  },
  {
   "cell_type": "code",
   "execution_count": 33,
   "id": "0190f762",
   "metadata": {},
   "outputs": [
    {
     "data": {
      "text/plain": [
       "Date             0\n",
       "Closing Value    0\n",
       "dtype: int64"
      ]
     },
     "execution_count": 33,
     "metadata": {},
     "output_type": "execute_result"
    }
   ],
   "source": [
    "dv.isnull().sum()"
   ]
  },
  {
   "cell_type": "code",
   "execution_count": 34,
   "id": "9b91e04f",
   "metadata": {},
   "outputs": [],
   "source": [
    "dv_oil=dv.reset_index()['Closing Value']"
   ]
  },
  {
   "cell_type": "code",
   "execution_count": 35,
   "id": "87dca131",
   "metadata": {},
   "outputs": [
    {
     "data": {
      "text/plain": [
       "0       25.56\n",
       "1       26.00\n",
       "2       26.53\n",
       "3       25.85\n",
       "4       25.87\n",
       "        ...  \n",
       "8211    73.89\n",
       "8212    74.19\n",
       "8213    73.05\n",
       "8214    73.78\n",
       "8215    73.93\n",
       "Name: Closing Value, Length: 8216, dtype: float64"
      ]
     },
     "execution_count": 35,
     "metadata": {},
     "output_type": "execute_result"
    }
   ],
   "source": [
    "dv_oil"
   ]
  },
  {
   "cell_type": "code",
   "execution_count": 36,
   "id": "ac1728cd",
   "metadata": {},
   "outputs": [],
   "source": [
    "from sklearn.preprocessing import MinMaxScaler\n",
    "scaler=MinMaxScaler(feature_range=(0,1))\n",
    "dv_oil=scaler.fit_transform(np.array(dv_oil).reshape(-1,1))\n"
   ]
  },
  {
   "cell_type": "code",
   "execution_count": 37,
   "id": "e631c9de",
   "metadata": {},
   "outputs": [
    {
     "data": {
      "text/plain": [
       "[<matplotlib.lines.Line2D at 0x1c7e8beac40>]"
      ]
     },
     "execution_count": 37,
     "metadata": {},
     "output_type": "execute_result"
    },
    {
     "data": {
      "image/png": "[encoded data removed]",
      "text/plain": [
       "<Figure size 640x480 with 1 Axes>"
      ]
     },
     "metadata": {},
     "output_type": "display_data"
    }
   ],
   "source": [
    "plt.plot(dv_oil)"
   ]
  },
  {
   "cell_type": "code",
   "execution_count": 38,
   "id": "6874bb3e",
   "metadata": {},
   "outputs": [],
   "source": [
    "training_size=int(len(dv_oil)*0.65)\n",
    "test_size=len(dv_oil)-training_size\n",
    "train_data,test_data=dv_oil[0:training_size,:],dv_oil[training_size:len(dv_oil),:1]"
   ]
  },
  {
   "cell_type": "code",
   "execution_count": 39,
   "id": "253b5743",
   "metadata": {},
   "outputs": [
    {
     "data": {
      "text/plain": [
       "(5340, 2876)"
      ]
     },
     "execution_count": 39,
     "metadata": {},
     "output_type": "execute_result"
    }
   ],
   "source": [
    "training_size,test_size"
   ]
  },
  {
   "cell_type": "code",
   "execution_count": 40,
   "id": "6c794b6c",
   "metadata": {},
   "outputs": [
    {
     "data": {
      "text/plain": [
       "(5340, 1)"
      ]
     },
     "execution_count": 40,
     "metadata": {},
     "output_type": "execute_result"
    }
   ],
   "source": [
    "train_data.shape"
   ]
  },
  {
   "cell_type": "code",
   "execution_count": 41,
   "id": "a7698da7",
   "metadata": {},
   "outputs": [],
   "source": [
    "def create_dataset(dataset, time_step=1):\n",
    "    dataX, dataY = [], []\n",
    "    for i in range(len(dataset)-time_step-1):\n",
    "        a = dataset[i:(i+time_step),0]\n",
    "        dataX.append(a)\n",
    "        dataY.append(dataset[i + time_step,0])\n",
    "    return np.array(dataX), np.array(dataY) "
   ]
  },
  {
   "cell_type": "code",
   "execution_count": 50,
   "id": "8f6644bc",
   "metadata": {},
   "outputs": [],
   "source": [
    "time_step = 10\n",
    "x_train, y_train = create_dataset(train_data, time_step)\n",
    "x_test, y_test = create_dataset(test_data, time_step)"
   ]
  },
  {
   "cell_type": "code",
   "execution_count": 51,
   "id": "1f4073d4",
   "metadata": {},
   "outputs": [
    {
     "name": "stdout",
     "output_type": "stream",
     "text": [
      "(5329, 10)\n",
      "(5329,)\n"
     ]
    },
    {
     "data": {
      "text/plain": [
       "(None, None)"
      ]
     },
     "execution_count": 51,
     "metadata": {},
     "output_type": "execute_result"
    }
   ],
   "source": [
    "print(x_train.shape), print(y_train.shape)"
   ]
  },
  {
   "cell_type": "code",
   "execution_count": 52,
   "id": "8c23607e",
   "metadata": {},
   "outputs": [
    {
     "name": "stdout",
     "output_type": "stream",
     "text": [
      "(2865, 10)\n",
      "(2865,)\n"
     ]
    },
    {
     "data": {
      "text/plain": [
       "(None, None)"
      ]
     },
     "execution_count": 52,
     "metadata": {},
     "output_type": "execute_result"
    }
   ],
   "source": [
    "print(x_test.shape), print(y_test.shape)"
   ]
  },
  {
   "cell_type": "code",
   "execution_count": 53,
   "id": "61bf174b",
   "metadata": {},
   "outputs": [
    {
     "data": {
      "text/plain": [
       "array([[0.11335703, 0.11661484, 0.12053902, ..., 0.10980305, 0.1089886 ,\n",
       "        0.11054346],\n",
       "       [0.11661484, 0.12053902, 0.11550422, ..., 0.1089886 , 0.11054346,\n",
       "        0.10165852],\n",
       "       [0.12053902, 0.11550422, 0.1156523 , ..., 0.11054346, 0.10165852,\n",
       "        0.09906708],\n",
       "       ...,\n",
       "       [0.36731823, 0.35176958, 0.36080261, ..., 0.36391234, 0.37042796,\n",
       "        0.37042796],\n",
       "       [0.35176958, 0.36080261, 0.35354657, ..., 0.37042796, 0.37042796,\n",
       "        0.37879461],\n",
       "       [0.36080261, 0.35354657, 0.35295424, ..., 0.37042796, 0.37879461,\n",
       "        0.37916482]])"
      ]
     },
     "execution_count": 53,
     "metadata": {},
     "output_type": "execute_result"
    }
   ],
   "source": [
    "x_train"
   ]
  },
  {
   "cell_type": "code",
   "execution_count": 54,
   "id": "e2116975",
   "metadata": {},
   "outputs": [],
   "source": [
    "x_train =x_train.reshape(x_train.shape[0],x_train.shape[1], 1)\n",
    "x_test =x_test.reshape(x_test.shape[0],x_test.shape[1], 1)"
   ]
  },
  {
   "cell_type": "markdown",
   "id": "80b78d43",
   "metadata": {},
   "source": [
    "# Importing The Model Building Libraries"
   ]
  },
  {
   "cell_type": "code",
   "execution_count": 55,
   "id": "cc8516b6",
   "metadata": {},
   "outputs": [],
   "source": [
    "from tensorflow.keras.models import Sequential\n",
    "from tensorflow.keras.layers import Dense\n",
    "from tensorflow.keras.layers import LSTM"
   ]
  },
  {
   "cell_type": "markdown",
   "id": "6404de66",
   "metadata": {},
   "source": [
    "# Initializing The Model"
   ]
  },
  {
   "cell_type": "code",
   "execution_count": 56,
   "id": "09362b0d",
   "metadata": {},
   "outputs": [],
   "source": [
    "model= Sequential()"
   ]
  },
  {
   "cell_type": "markdown",
   "id": "011ec49a",
   "metadata": {},
   "source": [
    "# Adding LSTM Layers"
   ]
  },
  {
   "cell_type": "code",
   "execution_count": 57,
   "id": "7f05b87b",
   "metadata": {},
   "outputs": [],
   "source": [
    "model.add(LSTM(50,return_sequences=True,input_shape=(10,1)))\n",
    "model.add(LSTM(50,return_sequences=True))\n",
    "model.add(LSTM(50))"
   ]
  },
  {
   "cell_type": "markdown",
   "id": "ee986997",
   "metadata": {},
   "source": [
    "# Adding Output Layers"
   ]
  },
  {
   "cell_type": "code",
   "execution_count": 58,
   "id": "40da1a07",
   "metadata": {},
   "outputs": [],
   "source": [
    "model.add(Dense(1))"
   ]
  },
  {
   "cell_type": "code",
   "execution_count": 59,
   "id": "016d4c8e",
   "metadata": {},
   "outputs": [
    {
     "name": "stdout",
     "output_type": "stream",
     "text": [
      "Model: \"sequential_1\"\n",
      "_________________________________________________________________\n",
      "Layer (type)                 Output Shape              Param #   \n",
      "=================================================================\n",
      "lstm_3 (LSTM)                (None, 10, 50)            10400     \n",
      "_________________________________________________________________\n",
      "lstm_4 (LSTM)                (None, 10, 50)            20200     \n",
      "_________________________________________________________________\n",
      "lstm_5 (LSTM)                (None, 50)                20200     \n",
      "_________________________________________________________________\n",
      "dense_1 (Dense)              (None, 1)                 51        \n",
      "=================================================================\n",
      "Total params: 50,851\n",
      "Trainable params: 50,851\n",
      "Non-trainable params: 0\n",
      "_________________________________________________________________\n"
     ]
    }
   ],
   "source": [
    "model.summary()"
   ]
  },
  {
   "cell_type": "markdown",
   "id": "35beca3e",
   "metadata": {},
   "source": [
    "# Configure The Learning Process\n"
   ]
  },
  {
   "cell_type": "code",
   "execution_count": 60,
   "id": "b435ef84",
   "metadata": {},
   "outputs": [],
   "source": [
    "model.compile(loss='mean_squared_error',optimizer='adam')"
   ]
  },
  {
   "cell_type": "markdown",
   "id": "cca3f64e",
   "metadata": {},
   "source": [
    "# Train The Model\n"
   ]
  },
  {
   "cell_type": "code",
   "execution_count": 62,
   "id": "f201c44c",
   "metadata": {},
   "outputs": [
    {
     "name": "stdout",
     "output_type": "stream",
     "text": [
      "Epoch 1/50\n",
      "84/84 [==============================] - 1s 14ms/step - loss: 1.2397e-04 - val_loss: 0.0010\n",
      "Epoch 2/50\n",
      "84/84 [==============================] - 1s 14ms/step - loss: 1.2604e-04 - val_loss: 0.0011\n",
      "Epoch 3/50\n",
      "84/84 [==============================] - 1s 13ms/step - loss: 1.2418e-04 - val_loss: 0.0010\n",
      "Epoch 4/50\n",
      "84/84 [==============================] - 1s 15ms/step - loss: 1.1566e-04 - val_loss: 6.9560e-04\n",
      "Epoch 5/50\n",
      "84/84 [==============================] - 1s 14ms/step - loss: 1.1687e-04 - val_loss: 8.6428e-04\n",
      "Epoch 6/50\n",
      "84/84 [==============================] - 1s 14ms/step - loss: 1.3380e-04 - val_loss: 8.0826e-04\n",
      "Epoch 7/50\n",
      "84/84 [==============================] - 1s 14ms/step - loss: 1.0896e-04 - val_loss: 8.1868e-04\n",
      "Epoch 8/50\n",
      "84/84 [==============================] - 1s 14ms/step - loss: 1.0808e-04 - val_loss: 6.2760e-04\n",
      "Epoch 9/50\n",
      "84/84 [==============================] - 1s 14ms/step - loss: 1.1460e-04 - val_loss: 7.0855e-04\n",
      "Epoch 10/50\n",
      "84/84 [==============================] - 1s 14ms/step - loss: 1.0123e-04 - val_loss: 0.0016\n",
      "Epoch 11/50\n",
      "84/84 [==============================] - 1s 14ms/step - loss: 1.0748e-04 - val_loss: 0.0012\n",
      "Epoch 12/50\n",
      "84/84 [==============================] - 1s 14ms/step - loss: 1.0734e-04 - val_loss: 0.0022\n",
      "Epoch 13/50\n",
      "84/84 [==============================] - 1s 14ms/step - loss: 1.0315e-04 - val_loss: 0.0017\n",
      "Epoch 14/50\n",
      "84/84 [==============================] - 1s 14ms/step - loss: 9.0868e-05 - val_loss: 4.9975e-04\n",
      "Epoch 15/50\n",
      "84/84 [==============================] - 1s 14ms/step - loss: 8.2264e-05 - val_loss: 4.4806e-04\n",
      "Epoch 16/50\n",
      "84/84 [==============================] - 1s 14ms/step - loss: 8.6532e-05 - val_loss: 4.2240e-04\n",
      "Epoch 17/50\n",
      "84/84 [==============================] - 1s 14ms/step - loss: 9.3830e-05 - val_loss: 5.1642e-04\n",
      "Epoch 18/50\n",
      "84/84 [==============================] - 1s 14ms/step - loss: 7.6129e-05 - val_loss: 4.2891e-04\n",
      "Epoch 19/50\n",
      "84/84 [==============================] - 1s 14ms/step - loss: 7.2314e-05 - val_loss: 3.5604e-04\n",
      "Epoch 20/50\n",
      "84/84 [==============================] - 1s 14ms/step - loss: 7.2631e-05 - val_loss: 4.5557e-04\n",
      "Epoch 21/50\n",
      "84/84 [==============================] - 1s 14ms/step - loss: 8.7359e-05 - val_loss: 6.0929e-04\n",
      "Epoch 22/50\n",
      "84/84 [==============================] - 1s 14ms/step - loss: 6.4509e-05 - val_loss: 3.1593e-04\n",
      "Epoch 23/50\n",
      "84/84 [==============================] - 1s 14ms/step - loss: 7.4939e-05 - val_loss: 3.0050e-04\n",
      "Epoch 24/50\n",
      "84/84 [==============================] - 1s 14ms/step - loss: 6.3075e-05 - val_loss: 9.4620e-04\n",
      "Epoch 25/50\n",
      "84/84 [==============================] - 1s 14ms/step - loss: 6.2799e-05 - val_loss: 4.8741e-04\n",
      "Epoch 26/50\n",
      "84/84 [==============================] - 1s 14ms/step - loss: 5.9741e-05 - val_loss: 2.8357e-04\n",
      "Epoch 27/50\n",
      "84/84 [==============================] - 1s 14ms/step - loss: 5.5502e-05 - val_loss: 2.9731e-04\n",
      "Epoch 28/50\n",
      "84/84 [==============================] - 1s 14ms/step - loss: 5.4357e-05 - val_loss: 3.7145e-04\n",
      "Epoch 29/50\n",
      "84/84 [==============================] - 1s 14ms/step - loss: 5.5275e-05 - val_loss: 2.4383e-04\n",
      "Epoch 30/50\n",
      "84/84 [==============================] - 1s 14ms/step - loss: 5.4140e-05 - val_loss: 2.6175e-04\n",
      "Epoch 31/50\n",
      "84/84 [==============================] - 1s 14ms/step - loss: 5.0494e-05 - val_loss: 2.7876e-04\n",
      "Epoch 32/50\n",
      "84/84 [==============================] - 1s 14ms/step - loss: 5.0675e-05 - val_loss: 2.1464e-04\n",
      "Epoch 33/50\n",
      "84/84 [==============================] - 1s 14ms/step - loss: 5.1193e-05 - val_loss: 2.2686e-04\n",
      "Epoch 34/50\n",
      "84/84 [==============================] - 1s 14ms/step - loss: 4.3796e-05 - val_loss: 1.9645e-04\n",
      "Epoch 35/50\n",
      "84/84 [==============================] - 1s 14ms/step - loss: 4.1837e-05 - val_loss: 1.9822e-04\n",
      "Epoch 36/50\n",
      "84/84 [==============================] - 1s 14ms/step - loss: 4.1200e-05 - val_loss: 2.0746e-04\n",
      "Epoch 37/50\n",
      "84/84 [==============================] - 1s 14ms/step - loss: 3.9656e-05 - val_loss: 1.8716e-04\n",
      "Epoch 38/50\n",
      "84/84 [==============================] - 1s 14ms/step - loss: 4.2368e-05 - val_loss: 4.1952e-04\n",
      "Epoch 39/50\n",
      "84/84 [==============================] - 1s 14ms/step - loss: 4.3197e-05 - val_loss: 1.7462e-04\n",
      "Epoch 40/50\n",
      "84/84 [==============================] - 1s 14ms/step - loss: 3.9180e-05 - val_loss: 1.9047e-04\n",
      "Epoch 41/50\n",
      "84/84 [==============================] - 1s 14ms/step - loss: 3.8646e-05 - val_loss: 2.1070e-04\n",
      "Epoch 42/50\n",
      "84/84 [==============================] - 1s 14ms/step - loss: 3.6976e-05 - val_loss: 3.5060e-04\n",
      "Epoch 43/50\n",
      "84/84 [==============================] - 1s 14ms/step - loss: 3.7631e-05 - val_loss: 3.4383e-04\n",
      "Epoch 44/50\n",
      "84/84 [==============================] - 1s 14ms/step - loss: 4.1896e-05 - val_loss: 1.7387e-04\n",
      "Epoch 45/50\n",
      "84/84 [==============================] - 1s 14ms/step - loss: 3.3750e-05 - val_loss: 2.2657e-04\n",
      "Epoch 46/50\n",
      "84/84 [==============================] - 1s 15ms/step - loss: 3.9837e-05 - val_loss: 2.9987e-04\n",
      "Epoch 47/50\n",
      "84/84 [==============================] - 1s 14ms/step - loss: 3.7424e-05 - val_loss: 1.9157e-04\n",
      "Epoch 48/50\n",
      "84/84 [==============================] - 1s 14ms/step - loss: 3.3164e-05 - val_loss: 2.7166e-04\n",
      "Epoch 49/50\n",
      "84/84 [==============================] - 1s 14ms/step - loss: 3.1495e-05 - val_loss: 2.0867e-04\n",
      "Epoch 50/50\n",
      "84/84 [==============================] - 1s 14ms/step - loss: 3.0797e-05 - val_loss: 1.7286e-04\n"
     ]
    },
    {
     "data": {
      "text/plain": [
       "<tensorflow.python.keras.callbacks.History at 0x1c7f5087940>"
      ]
     },
     "execution_count": 62,
     "metadata": {},
     "output_type": "execute_result"
    }
   ],
   "source": [
    "model.fit(x_train,y_train,validation_data=(x_test,y_test),epochs=50,batch_size=64,verbose=1)"
   ]
  },
  {
   "cell_type": "markdown",
   "id": "163b892e",
   "metadata": {},
   "source": [
    "# Model Evaluation\n"
   ]
  },
  {
   "cell_type": "code",
   "execution_count": 65,
   "id": "f4711443",
   "metadata": {},
   "outputs": [
    {
     "data": {
      "text/plain": [
       "29.347830443269938"
      ]
     },
     "execution_count": 65,
     "metadata": {},
     "output_type": "execute_result"
    }
   ],
   "source": [
    "train_predict=scaler.inverse_transform(train_data) \n",
    "test_predict=scaler.inverse_transform(test_data)\n",
    "### Calculate RMSE performance metrics\n",
    "import math \n",
    "from sklearn.metrics import mean_squared_error\n",
    "math.sqrt(mean_squared_error(train_data,train_predict))"
   ]
  },
  {
   "cell_type": "markdown",
   "id": "e0df8b61",
   "metadata": {},
   "source": [
    "# Save The Model\n"
   ]
  },
  {
   "cell_type": "code",
   "execution_count": 66,
   "id": "61c0c31e",
   "metadata": {},
   "outputs": [],
   "source": [
    "from tensorflow.keras.models import load_model"
   ]
  },
  {
   "cell_type": "code",
   "execution_count": 67,
   "id": "704fdbc8",
   "metadata": {},
   "outputs": [
    {
     "name": "stderr",
     "output_type": "stream",
     "text": [
      "WARNING:absl:Found untraced functions such as lstm_cell_3_layer_call_and_return_conditional_losses, lstm_cell_3_layer_call_fn, lstm_cell_4_layer_call_and_return_conditional_losses, lstm_cell_4_layer_call_fn, lstm_cell_5_layer_call_and_return_conditional_losses while saving (showing 5 of 15). These functions will not be directly callable after loading.\n"
     ]
    },
    {
     "name": "stdout",
     "output_type": "stream",
     "text": [
      "INFO:tensorflow:Assets written to: crude_oil.hs\\assets\n"
     ]
    },
    {
     "name": "stderr",
     "output_type": "stream",
     "text": [
      "INFO:tensorflow:Assets written to: crude_oil.hs\\assets\n"
     ]
    }
   ],
   "source": [
    "model.save(\"crude_oil.hs\")"
   ]
  },
  {
   "cell_type": "markdown",
   "id": "a27cf870",
   "metadata": {},
   "source": [
    "# Test The Model\n"
   ]
  },
  {
   "cell_type": "code",
   "execution_count": 68,
   "id": "f44c80b6",
   "metadata": {},
   "outputs": [
    {
     "data": {
      "image/png": "[encoded data removed]",
      "text/plain": [
       "<Figure size 640x480 with 1 Axes>"
      ]
     },
     "metadata": {},
     "output_type": "display_data"
    }
   ],
   "source": [
    "### Plotting\n",
    "look_back=10\n",
    "trainpredictPlot = np.empty_like(dv_oil)\n",
    "trainpredictPlot[:, :]= np.nan\n",
    "trainpredictPlot[look_back:len(train_predict)+look_back, :] = train_predict\n",
    "# shift test predictions for plotting\n",
    "testPredictplot = np.empty_like(dv_oil)\n",
    "testPredictplot[:,: ] = np.nan\n",
    "testPredictplot[look_back:len(test_predict)+look_back, :] = test_predict\n",
    "# plot baseline and predictions\n",
    "plt.plot(scaler.inverse_transform(dv_oil))\n",
    "plt.show()"
   ]
  },
  {
   "cell_type": "code",
   "execution_count": 69,
   "id": "d1d47548",
   "metadata": {},
   "outputs": [
    {
     "data": {
      "text/plain": [
       "2876"
      ]
     },
     "execution_count": 69,
     "metadata": {},
     "output_type": "execute_result"
    }
   ],
   "source": [
    "len(test_data)"
   ]
  },
  {
   "cell_type": "code",
   "execution_count": 70,
   "id": "24087e67",
   "metadata": {},
   "outputs": [
    {
     "data": {
      "text/plain": [
       "(1, 10)"
      ]
     },
     "execution_count": 70,
     "metadata": {},
     "output_type": "execute_result"
    }
   ],
   "source": [
    "x_input=test_data[2866:].reshape(1,-1)\n",
    "x_input.shape"
   ]
  },
  {
   "cell_type": "code",
   "execution_count": 71,
   "id": "8ace83cf",
   "metadata": {},
   "outputs": [],
   "source": [
    "temp_input=list(x_input) \n",
    "temp_input=temp_input[0].tolist()"
   ]
  },
  {
   "cell_type": "code",
   "execution_count": 72,
   "id": "f52dc0b2",
   "metadata": {},
   "outputs": [
    {
     "data": {
      "text/plain": [
       "[0.44172960165852215,\n",
       " 0.48111950244335855,\n",
       " 0.49726047682511476,\n",
       " 0.4679401747371539,\n",
       " 0.4729749740855915,\n",
       " 0.47119798608026064,\n",
       " 0.47341922108692425,\n",
       " 0.4649785280616022,\n",
       " 0.4703835332444839,\n",
       " 0.47149415074781587]"
      ]
     },
     "execution_count": 72,
     "metadata": {},
     "output_type": "execute_result"
    }
   ],
   "source": [
    "temp_input"
   ]
  },
  {
   "cell_type": "code",
   "execution_count": 73,
   "id": "8e6b2c9d",
   "metadata": {},
   "outputs": [
    {
     "name": "stdout",
     "output_type": "stream",
     "text": [
      "[0.47315055]\n",
      "11\n",
      "1 day input [0.4811195  0.49726048 0.46794017 0.47297497 0.47119799 0.47341922\n",
      " 0.46497853 0.47038353 0.47149415 0.47315055]\n",
      "1 day output [[0.47494358]]\n",
      "2 day input [0.49726048 0.46794017 0.47297497 0.47119799 0.47341922 0.46497853\n",
      " 0.47038353 0.47149415 0.47315055 0.47494358]\n",
      "2 day output [[0.47638887]]\n",
      "3 day input [0.46794017 0.47297497 0.47119799 0.47341922 0.46497853 0.47038353\n",
      " 0.47149415 0.47315055 0.47494358 0.47638887]\n",
      "3 day output [[0.47733274]]\n",
      "4 day input [0.47297497 0.47119799 0.47341922 0.46497853 0.47038353 0.47149415\n",
      " 0.47315055 0.47494358 0.47638887 0.47733274]\n",
      "4 day output [[0.47806898]]\n",
      "5 day input [0.47119799 0.47341922 0.46497853 0.47038353 0.47149415 0.47315055\n",
      " 0.47494358 0.47638887 0.47733274 0.47806898]\n",
      "5 day output [[0.47860423]]\n",
      "6 day input [0.47341922 0.46497853 0.47038353 0.47149415 0.47315055 0.47494358\n",
      " 0.47638887 0.47733274 0.47806898 0.47860423]\n",
      "6 day output [[0.47904986]]\n",
      "7 day input [0.46497853 0.47038353 0.47149415 0.47315055 0.47494358 0.47638887\n",
      " 0.47733274 0.47806898 0.47860423 0.47904986]\n",
      "7 day output [[0.47945768]]\n",
      "8 day input [0.47038353 0.47149415 0.47315055 0.47494358 0.47638887 0.47733274\n",
      " 0.47806898 0.47860423 0.47904986 0.47945768]\n",
      "8 day output [[0.47995877]]\n",
      "9 day input [0.47149415 0.47315055 0.47494358 0.47638887 0.47733274 0.47806898\n",
      " 0.47860423 0.47904986 0.47945768 0.47995877]\n",
      "9 day output [[0.48052895]]\n"
     ]
    }
   ],
   "source": [
    "lst_output=[]\n",
    "n_steps=10\n",
    "i=0\n",
    "while(i<10):\n",
    "    if(len(temp_input)>10):\n",
    "#print(temp_input)\n",
    "       x_input=np.array(temp_input[1:]) \n",
    "       print(\"{} day input {}\".format(i,x_input))\n",
    "       x_input=x_input.reshape(1,-1)\n",
    "       x_input = x_input.reshape((1, n_steps, 1)) #print(x_input)\n",
    "       yhat = model.predict(x_input, verbose=0)\n",
    "       print(\"{} day output {}\".format(i,yhat))\n",
    "       temp_input.extend(yhat[0].tolist())\n",
    "       temp_input=temp_input[1:] #print(temp_input)\n",
    "       lst_output.extend(yhat.tolist())\n",
    "       i=i+1\n",
    "    else:\n",
    "       x_input = x_input.reshape((1, n_steps,1))\n",
    "       yhat = model.predict(x_input, verbose=0)\n",
    "       print(yhat[0])\n",
    "       temp_input.extend(yhat[0].tolist()) \n",
    "       print(len(temp_input))\n",
    "       lst_output.extend(yhat.tolist())\n",
    "       i=i+1"
   ]
  },
  {
   "cell_type": "code",
   "execution_count": 74,
   "id": "90beb481",
   "metadata": {},
   "outputs": [
    {
     "data": {
      "text/plain": [
       "[<matplotlib.lines.Line2D at 0x1c792d385e0>]"
      ]
     },
     "execution_count": 74,
     "metadata": {},
     "output_type": "execute_result"
    },
    {
     "data": {
      "image/png": "[encoded data removed]",
      "text/plain": [
       "<Figure size 640x480 with 1 Axes>"
      ]
     },
     "metadata": {},
     "output_type": "display_data"
    }
   ],
   "source": [
    "day_new=np.arange(1,11) \n",
    "day_pred=np.arange(11,21)\n",
    "len(dv_oil)\n",
    "plt.plot(day_new, scaler.inverse_transform(dv_oil[8206:])) \n",
    "plt.plot(day_pred, scaler.inverse_transform(lst_output))"
   ]
  },
  {
   "cell_type": "code",
   "execution_count": 75,
   "id": "2ce57789",
   "metadata": {},
   "outputs": [
    {
     "data": {
      "text/plain": [
       "[<matplotlib.lines.Line2D at 0x1c792d0b2e0>]"
      ]
     },
     "execution_count": 75,
     "metadata": {},
     "output_type": "execute_result"
    },
    {
     "data": {
      "image/png": "[encoded data removed]",
      "text/plain": [
       "<Figure size 640x480 with 1 Axes>"
      ]
     },
     "metadata": {},
     "output_type": "display_data"
    }
   ],
   "source": [
    "df3=dv_oil.tolist() \n",
    "df3.extend(lst_output) \n",
    "plt.plot(df3[8100:])"
   ]
  },
  {
   "cell_type": "code",
   "execution_count": 76,
   "id": "4c4a698e",
   "metadata": {},
   "outputs": [],
   "source": [
    "df3=scaler.inverse_transform(df3).tolist()"
   ]
  },
  {
   "cell_type": "code",
   "execution_count": 77,
   "id": "ad119bd4",
   "metadata": {},
   "outputs": [
    {
     "data": {
      "text/plain": [
       "[<matplotlib.lines.Line2D at 0x1c792ec31c0>]"
      ]
     },
     "execution_count": 77,
     "metadata": {},
     "output_type": "execute_result"
    },
    {
     "data": {
      "image/png": "[encoded data removed]",
      "text/plain": [
       "<Figure size 640x480 with 1 Axes>"
      ]
     },
     "metadata": {},
     "output_type": "display_data"
    }
   ],
   "source": [
    "plt.plot(scaler.inverse_transform(dv_oil))"
   ]
  },
  {
   "cell_type": "code",
   "execution_count": null,
   "id": "8c546b7d",
   "metadata": {},
   "outputs": [],
   "source": []
  }
 ],
 "metadata": {
  "kernelspec": {
   "display_name": "Python 3 (ipykernel)",
   "language": "python",
   "name": "python3"
  },
  "language_info": {
   "codemirror_mode": {
    "name": "ipython",
    "version": 3
   },
   "file_extension": ".py",
   "mimetype": "text/x-python",
   "name": "python",
   "nbconvert_exporter": "python",
   "pygments_lexer": "ipython3",
   "version": "3.9.13"
  }
 },
 "nbformat": 4,
 "nbformat_minor": 5
}
