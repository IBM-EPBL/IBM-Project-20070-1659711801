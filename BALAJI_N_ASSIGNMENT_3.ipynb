{
  "nbformat": 4,
  "nbformat_minor": 0,
  "metadata": {
    "colab": {
      "provenance": [],
      "collapsed_sections": []
    },
    "kernelspec": {
      "name": "python3",
      "display_name": "Python 3"
    },
    "language_info": {
      "name": "python"
    }
  },
  "cells": [
    {
      "cell_type": "markdown",
      "source": [
        "**IMAGE** **AUGUMENTATION**"
      ],
      "metadata": {
        "id": "Amp761VncyXv"
      }
    },
    {
      "cell_type": "code",
      "source": [
        "from google.colab import drive\n",
        "drive.mount('/content/drive')"
      ],
      "metadata": {
        "colab": {
          "base_uri": "https://localhost:8080/"
        },
        "id": "Q_aWl3HH-gZH",
        "outputId": "4d9aaabe-2c6a-4116-dee2-9a26eff4cdb5"
      },
      "execution_count": 1,
      "outputs": [
        {
          "output_type": "stream",
          "name": "stdout",
          "text": [
            "Mounted at /content/drive\n"
          ]
        }
      ]
    },
    {
      "cell_type": "code",
      "source": [
        "!pip install split-folders"
      ],
      "metadata": {
        "colab": {
          "base_uri": "https://localhost:8080/"
        },
        "id": "gkw9jWAB0nx8",
        "outputId": "d9b45e6c-8989-4d1f-bc41-93cdef439cff"
      },
      "execution_count": 2,
      "outputs": [
        {
          "output_type": "stream",
          "name": "stdout",
          "text": [
            "Looking in indexes: https://pypi.org/simple, https://us-python.pkg.dev/colab-wheels/public/simple/\n",
            "Collecting split-folders\n",
            "  Downloading split_folders-0.5.1-py3-none-any.whl (8.4 kB)\n",
            "Installing collected packages: split-folders\n",
            "Successfully installed split-folders-0.5.1\n"
          ]
        }
      ]
    },
    {
      "cell_type": "code",
      "source": [
        "import splitfolders\n",
        "# To only split into training and validation set, set a tuple to `ratio`, i.e, `(.8, .2)`.\n",
        "splitfolders.ratio(\"/content/drive/MyDrive/flowers\", output=\"/content/drive/MyDrive/flowers\",seed=1337, ratio=(.8, .1, .1), group_prefix=None, move=False) "
      ],
      "metadata": {
        "colab": {
          "base_uri": "https://localhost:8080/"
        },
        "id": "zb_E59eg0_py",
        "outputId": "1145c49b-b5c0-49df-83af-118a88586f74"
      },
      "execution_count": 3,
      "outputs": [
        {
          "output_type": "stream",
          "name": "stderr",
          "text": [
            "Copying files: 3563 files [01:32, 38.67 files/s]\n"
          ]
        }
      ]
    },
    {
      "cell_type": "code",
      "execution_count": 4,
      "metadata": {
        "id": "EwQqhgnkHTSr"
      },
      "outputs": [],
      "source": [
        "import keras\n",
        "from keras.preprocessing.image import ImageDataGenerator"
      ]
    },
    {
      "cell_type": "code",
      "source": [
        "def getdata():\n",
        "  train_datagen=ImageDataGenerator (rescale=1./255,\n",
        "  shear_range=0.2,\n",
        "  rotation_range=180,\n",
        "  zoom_range=0.2,\n",
        "  horizontal_flip=True)\n",
        "  test_datagen=ImageDataGenerator (rescale=1./255)\n",
        "  x_train = train_datagen.flow_from_directory (r'/content/drive/MyDrive/flowers/train', target_size = (64,64), batch_size = 32, class_mode= 'categorical')\n",
        "  x_test = test_datagen.flow_from_directory(r'/content/drive/MyDrive/flowers/test', target_size = (64,64), batch_size = 32, class_mode= 'categorical')\n",
        "  return x_train,x_test;"
      ],
      "metadata": {
        "id": "YhBnsl_2H7ma"
      },
      "execution_count": 5,
      "outputs": []
    },
    {
      "cell_type": "markdown",
      "source": [
        "**CREATE** **MODEL**"
      ],
      "metadata": {
        "id": "Dt0TlG8nfIhl"
      }
    },
    {
      "cell_type": "code",
      "source": [
        "#To define linear intialisan\n",
        "from keras.models import Sequential\n",
        "#To add Layers import Dense\n",
        "from keras.layers import Dense\n",
        "#To create Convolution kernel import Convolution2D\n",
        "from keras.layers import Convolution2D\n",
        "#import Maxpooling layer\n",
        "from keras.layers import MaxPooling2D\n",
        "#import Flatten Layer\n",
        "from keras.layers import Flatten\n",
        "import warnings\n",
        "warnings.filterwarnings('ignore')"
      ],
      "metadata": {
        "id": "FCnxKsOtIhbG"
      },
      "execution_count": 6,
      "outputs": []
    },
    {
      "cell_type": "code",
      "source": [
        "model=Sequential()"
      ],
      "metadata": {
        "id": "_HMH3B_lIxd5"
      },
      "execution_count": 7,
      "outputs": []
    },
    {
      "cell_type": "markdown",
      "source": [
        "**ADDING** **LAYERS**"
      ],
      "metadata": {
        "id": "Z4MICpemocky"
      }
    },
    {
      "cell_type": "code",
      "source": [
        "#add convolutional layer \n",
        "model.add(Convolution2D(112, (7,7),input_shape=(64,64,3), activation='relu'))\n",
        "model.add(MaxPooling2D(pool_size=(2,2)))\n",
        "model.add(Flatten())"
      ],
      "metadata": {
        "id": "8aBh_4HsI3Nn"
      },
      "execution_count": 8,
      "outputs": []
    },
    {
      "cell_type": "code",
      "source": [
        "#add hidden layer \n",
        "model.add(Dense(32,activation='relu'))\n",
        "model.add(Dense(64,activation='relu'))"
      ],
      "metadata": {
        "id": "Lqm3_XBsJDk8"
      },
      "execution_count": 9,
      "outputs": []
    },
    {
      "cell_type": "markdown",
      "source": [
        "**COMPILE** **THE** **MODEL**"
      ],
      "metadata": {
        "id": "8iGqiMaTolHo"
      }
    },
    {
      "cell_type": "code",
      "source": [
        "#add output Layer \n",
        "model.add(Dense(5, activation='softmax'))\n",
        "model.compile(loss = 'categorical_crossentropy', optimizer = \"adam\", metrics = [\"accuracy\"])"
      ],
      "metadata": {
        "id": "jgnAT8KGJFfU"
      },
      "execution_count": 10,
      "outputs": []
    },
    {
      "cell_type": "code",
      "source": [
        "model.summary()"
      ],
      "metadata": {
        "colab": {
          "base_uri": "https://localhost:8080/"
        },
        "id": "rGuLUymCYSHU",
        "outputId": "3ed9731b-ceee-4d5c-90d4-5ca1dc09a80f"
      },
      "execution_count": 11,
      "outputs": [
        {
          "output_type": "stream",
          "name": "stdout",
          "text": [
            "Model: \"sequential\"\n",
            "_________________________________________________________________\n",
            " Layer (type)                Output Shape              Param #   \n",
            "=================================================================\n",
            " conv2d (Conv2D)             (None, 58, 58, 112)       16576     \n",
            "                                                                 \n",
            " max_pooling2d (MaxPooling2D  (None, 29, 29, 112)      0         \n",
            " )                                                               \n",
            "                                                                 \n",
            " flatten (Flatten)           (None, 94192)             0         \n",
            "                                                                 \n",
            " dense (Dense)               (None, 32)                3014176   \n",
            "                                                                 \n",
            " dense_1 (Dense)             (None, 64)                2112      \n",
            "                                                                 \n",
            " dense_2 (Dense)             (None, 5)                 325       \n",
            "                                                                 \n",
            "=================================================================\n",
            "Total params: 3,033,189\n",
            "Trainable params: 3,033,189\n",
            "Non-trainable params: 0\n",
            "_________________________________________________________________\n"
          ]
        }
      ]
    },
    {
      "cell_type": "markdown",
      "source": [
        "**FIT** **THE** **MODEL**"
      ],
      "metadata": {
        "id": "oEyssq_Dot_A"
      }
    },
    {
      "cell_type": "code",
      "source": [
        "x_train,x_test=getdata()\n",
        "tom=model.fit_generator(x_train , steps_per_epoch=len(x_train), epochs=100, validation_data=x_test, validation_steps=len(x_test))"
      ],
      "metadata": {
        "colab": {
          "base_uri": "https://localhost:8080/"
        },
        "id": "kz6yE91iJNYE",
        "outputId": "5243456b-620d-4a55-a3ae-f94891b3fcc2"
      },
      "execution_count": 12,
      "outputs": [
        {
          "output_type": "stream",
          "name": "stdout",
          "text": [
            "Found 2849 images belonging to 5 classes.\n",
            "Found 359 images belonging to 5 classes.\n",
            "Epoch 1/100\n",
            "90/90 [==============================] - 41s 449ms/step - loss: 1.2155 - accuracy: 0.4317 - val_loss: 1.0493 - val_accuracy: 0.4763\n",
            "Epoch 2/100\n",
            "90/90 [==============================] - 39s 436ms/step - loss: 1.0374 - accuracy: 0.5261 - val_loss: 1.0891 - val_accuracy: 0.5265\n",
            "Epoch 3/100\n",
            "90/90 [==============================] - 40s 438ms/step - loss: 1.0171 - accuracy: 0.5360 - val_loss: 1.2052 - val_accuracy: 0.4345\n",
            "Epoch 4/100\n",
            "90/90 [==============================] - 40s 441ms/step - loss: 1.0083 - accuracy: 0.5465 - val_loss: 1.0224 - val_accuracy: 0.5627\n",
            "Epoch 5/100\n",
            "90/90 [==============================] - 38s 416ms/step - loss: 0.9574 - accuracy: 0.5718 - val_loss: 0.9247 - val_accuracy: 0.6045\n",
            "Epoch 6/100\n",
            "90/90 [==============================] - 37s 407ms/step - loss: 0.9398 - accuracy: 0.5918 - val_loss: 0.9791 - val_accuracy: 0.5766\n",
            "Epoch 7/100\n",
            "90/90 [==============================] - 38s 422ms/step - loss: 0.9516 - accuracy: 0.5774 - val_loss: 0.8964 - val_accuracy: 0.6323\n",
            "Epoch 8/100\n",
            "90/90 [==============================] - 38s 420ms/step - loss: 0.9288 - accuracy: 0.5963 - val_loss: 0.9216 - val_accuracy: 0.5850\n",
            "Epoch 9/100\n",
            "90/90 [==============================] - 38s 426ms/step - loss: 0.9427 - accuracy: 0.5827 - val_loss: 0.9319 - val_accuracy: 0.5822\n",
            "Epoch 10/100\n",
            "90/90 [==============================] - 39s 431ms/step - loss: 0.9073 - accuracy: 0.5946 - val_loss: 0.8843 - val_accuracy: 0.6435\n",
            "Epoch 11/100\n",
            "90/90 [==============================] - 38s 423ms/step - loss: 0.9152 - accuracy: 0.5946 - val_loss: 0.8865 - val_accuracy: 0.6045\n",
            "Epoch 12/100\n",
            "90/90 [==============================] - 38s 418ms/step - loss: 0.8793 - accuracy: 0.6181 - val_loss: 0.8378 - val_accuracy: 0.6685\n",
            "Epoch 13/100\n",
            "90/90 [==============================] - 38s 421ms/step - loss: 0.8593 - accuracy: 0.6223 - val_loss: 0.8607 - val_accuracy: 0.6407\n",
            "Epoch 14/100\n",
            "90/90 [==============================] - 37s 414ms/step - loss: 0.8569 - accuracy: 0.6150 - val_loss: 0.8389 - val_accuracy: 0.6574\n",
            "Epoch 15/100\n",
            "90/90 [==============================] - 38s 415ms/step - loss: 0.8476 - accuracy: 0.6283 - val_loss: 0.9210 - val_accuracy: 0.6295\n",
            "Epoch 16/100\n",
            "90/90 [==============================] - 38s 420ms/step - loss: 0.8385 - accuracy: 0.6427 - val_loss: 0.8639 - val_accuracy: 0.6240\n",
            "Epoch 17/100\n",
            "90/90 [==============================] - 38s 419ms/step - loss: 0.8161 - accuracy: 0.6511 - val_loss: 0.8555 - val_accuracy: 0.6518\n",
            "Epoch 18/100\n",
            "90/90 [==============================] - 38s 420ms/step - loss: 0.8216 - accuracy: 0.6472 - val_loss: 0.9105 - val_accuracy: 0.6240\n",
            "Epoch 19/100\n",
            "90/90 [==============================] - 38s 419ms/step - loss: 0.8150 - accuracy: 0.6406 - val_loss: 0.8902 - val_accuracy: 0.6128\n",
            "Epoch 20/100\n",
            "90/90 [==============================] - 37s 414ms/step - loss: 0.8175 - accuracy: 0.6367 - val_loss: 0.8509 - val_accuracy: 0.6713\n",
            "Epoch 21/100\n",
            "90/90 [==============================] - 38s 417ms/step - loss: 0.8000 - accuracy: 0.6560 - val_loss: 0.8650 - val_accuracy: 0.6295\n",
            "Epoch 22/100\n",
            "90/90 [==============================] - 38s 422ms/step - loss: 0.7997 - accuracy: 0.6522 - val_loss: 0.9177 - val_accuracy: 0.6184\n",
            "Epoch 23/100\n",
            "90/90 [==============================] - 37s 413ms/step - loss: 0.7988 - accuracy: 0.6497 - val_loss: 0.9076 - val_accuracy: 0.6017\n",
            "Epoch 24/100\n",
            "90/90 [==============================] - 38s 424ms/step - loss: 0.7987 - accuracy: 0.6585 - val_loss: 0.8432 - val_accuracy: 0.6379\n",
            "Epoch 25/100\n",
            "90/90 [==============================] - 37s 413ms/step - loss: 0.8011 - accuracy: 0.6609 - val_loss: 0.8326 - val_accuracy: 0.6657\n",
            "Epoch 26/100\n",
            "90/90 [==============================] - 38s 423ms/step - loss: 0.7818 - accuracy: 0.6644 - val_loss: 0.8460 - val_accuracy: 0.6379\n",
            "Epoch 27/100\n",
            "90/90 [==============================] - 38s 418ms/step - loss: 0.7651 - accuracy: 0.6725 - val_loss: 0.8855 - val_accuracy: 0.6602\n",
            "Epoch 28/100\n",
            "90/90 [==============================] - 38s 423ms/step - loss: 0.7722 - accuracy: 0.6644 - val_loss: 0.8694 - val_accuracy: 0.6379\n",
            "Epoch 29/100\n",
            "90/90 [==============================] - 39s 430ms/step - loss: 0.7883 - accuracy: 0.6560 - val_loss: 0.8555 - val_accuracy: 0.6518\n",
            "Epoch 30/100\n",
            "90/90 [==============================] - 39s 427ms/step - loss: 0.7631 - accuracy: 0.6732 - val_loss: 0.8731 - val_accuracy: 0.6351\n",
            "Epoch 31/100\n",
            "90/90 [==============================] - 38s 417ms/step - loss: 0.7784 - accuracy: 0.6729 - val_loss: 0.9016 - val_accuracy: 0.6128\n",
            "Epoch 32/100\n",
            "90/90 [==============================] - 38s 417ms/step - loss: 0.7535 - accuracy: 0.6823 - val_loss: 0.8426 - val_accuracy: 0.6379\n",
            "Epoch 33/100\n",
            "90/90 [==============================] - 38s 419ms/step - loss: 0.7686 - accuracy: 0.6711 - val_loss: 0.8201 - val_accuracy: 0.6797\n",
            "Epoch 34/100\n",
            "90/90 [==============================] - 38s 423ms/step - loss: 0.7365 - accuracy: 0.6852 - val_loss: 0.8972 - val_accuracy: 0.6379\n",
            "Epoch 35/100\n",
            "90/90 [==============================] - 38s 425ms/step - loss: 0.7315 - accuracy: 0.6901 - val_loss: 0.8462 - val_accuracy: 0.6462\n",
            "Epoch 36/100\n",
            "90/90 [==============================] - 38s 422ms/step - loss: 0.7278 - accuracy: 0.6894 - val_loss: 0.8708 - val_accuracy: 0.6490\n",
            "Epoch 37/100\n",
            "90/90 [==============================] - 38s 417ms/step - loss: 0.7277 - accuracy: 0.6908 - val_loss: 0.8604 - val_accuracy: 0.6462\n",
            "Epoch 38/100\n",
            "90/90 [==============================] - 38s 419ms/step - loss: 0.7392 - accuracy: 0.6859 - val_loss: 0.8712 - val_accuracy: 0.6240\n",
            "Epoch 39/100\n",
            "90/90 [==============================] - 38s 418ms/step - loss: 0.7084 - accuracy: 0.7027 - val_loss: 0.8413 - val_accuracy: 0.6323\n",
            "Epoch 40/100\n",
            "90/90 [==============================] - 37s 414ms/step - loss: 0.7221 - accuracy: 0.6946 - val_loss: 0.9082 - val_accuracy: 0.6212\n",
            "Epoch 41/100\n",
            "90/90 [==============================] - 38s 420ms/step - loss: 0.7245 - accuracy: 0.6873 - val_loss: 0.8606 - val_accuracy: 0.6713\n",
            "Epoch 42/100\n",
            "90/90 [==============================] - 38s 418ms/step - loss: 0.7329 - accuracy: 0.6880 - val_loss: 0.8496 - val_accuracy: 0.6685\n",
            "Epoch 43/100\n",
            "90/90 [==============================] - 38s 422ms/step - loss: 0.7312 - accuracy: 0.6841 - val_loss: 0.9558 - val_accuracy: 0.6128\n",
            "Epoch 44/100\n",
            "90/90 [==============================] - 38s 422ms/step - loss: 0.7172 - accuracy: 0.6943 - val_loss: 0.8586 - val_accuracy: 0.6518\n",
            "Epoch 45/100\n",
            "90/90 [==============================] - 38s 423ms/step - loss: 0.7063 - accuracy: 0.6932 - val_loss: 0.8962 - val_accuracy: 0.6267\n",
            "Epoch 46/100\n",
            "90/90 [==============================] - 39s 430ms/step - loss: 0.7098 - accuracy: 0.7020 - val_loss: 0.8513 - val_accuracy: 0.6797\n",
            "Epoch 47/100\n",
            "90/90 [==============================] - 37s 411ms/step - loss: 0.7037 - accuracy: 0.7101 - val_loss: 0.8879 - val_accuracy: 0.6602\n",
            "Epoch 48/100\n",
            "90/90 [==============================] - 42s 462ms/step - loss: 0.7104 - accuracy: 0.7034 - val_loss: 0.9053 - val_accuracy: 0.6435\n",
            "Epoch 49/100\n",
            "90/90 [==============================] - 38s 419ms/step - loss: 0.7128 - accuracy: 0.6964 - val_loss: 0.8833 - val_accuracy: 0.6435\n",
            "Epoch 50/100\n",
            "90/90 [==============================] - 39s 427ms/step - loss: 0.7102 - accuracy: 0.6974 - val_loss: 0.8817 - val_accuracy: 0.6490\n",
            "Epoch 51/100\n",
            "90/90 [==============================] - 38s 423ms/step - loss: 0.7070 - accuracy: 0.6999 - val_loss: 0.9097 - val_accuracy: 0.6072\n",
            "Epoch 52/100\n",
            "90/90 [==============================] - 38s 415ms/step - loss: 0.7049 - accuracy: 0.7006 - val_loss: 0.8752 - val_accuracy: 0.6267\n",
            "Epoch 53/100\n",
            "90/90 [==============================] - 39s 429ms/step - loss: 0.6905 - accuracy: 0.7024 - val_loss: 0.8979 - val_accuracy: 0.6295\n",
            "Epoch 54/100\n",
            "90/90 [==============================] - 37s 411ms/step - loss: 0.7020 - accuracy: 0.7048 - val_loss: 0.8808 - val_accuracy: 0.6379\n",
            "Epoch 55/100\n",
            "90/90 [==============================] - 37s 405ms/step - loss: 0.6725 - accuracy: 0.7185 - val_loss: 0.8659 - val_accuracy: 0.6574\n",
            "Epoch 56/100\n",
            "90/90 [==============================] - 38s 424ms/step - loss: 0.6888 - accuracy: 0.7066 - val_loss: 0.8820 - val_accuracy: 0.6518\n",
            "Epoch 57/100\n",
            "90/90 [==============================] - 38s 419ms/step - loss: 0.7203 - accuracy: 0.6876 - val_loss: 0.8846 - val_accuracy: 0.6546\n",
            "Epoch 58/100\n",
            "90/90 [==============================] - 37s 413ms/step - loss: 0.6973 - accuracy: 0.7136 - val_loss: 0.9006 - val_accuracy: 0.6462\n",
            "Epoch 59/100\n",
            "90/90 [==============================] - 38s 417ms/step - loss: 0.6686 - accuracy: 0.7157 - val_loss: 0.9506 - val_accuracy: 0.6267\n",
            "Epoch 60/100\n",
            "90/90 [==============================] - 38s 419ms/step - loss: 0.6716 - accuracy: 0.7174 - val_loss: 0.8934 - val_accuracy: 0.6546\n",
            "Epoch 61/100\n",
            "90/90 [==============================] - 37s 414ms/step - loss: 0.6902 - accuracy: 0.7052 - val_loss: 0.9680 - val_accuracy: 0.6490\n",
            "Epoch 62/100\n",
            "90/90 [==============================] - 37s 411ms/step - loss: 0.6896 - accuracy: 0.7073 - val_loss: 0.9067 - val_accuracy: 0.6546\n",
            "Epoch 63/100\n",
            "90/90 [==============================] - 38s 420ms/step - loss: 0.6794 - accuracy: 0.7094 - val_loss: 1.2149 - val_accuracy: 0.5710\n",
            "Epoch 64/100\n",
            "90/90 [==============================] - 38s 420ms/step - loss: 0.7797 - accuracy: 0.6644 - val_loss: 0.8819 - val_accuracy: 0.6435\n",
            "Epoch 65/100\n",
            "90/90 [==============================] - 39s 429ms/step - loss: 0.7295 - accuracy: 0.6764 - val_loss: 0.9334 - val_accuracy: 0.6407\n",
            "Epoch 66/100\n",
            "90/90 [==============================] - 38s 416ms/step - loss: 0.7399 - accuracy: 0.6897 - val_loss: 0.9119 - val_accuracy: 0.6462\n",
            "Epoch 67/100\n",
            "90/90 [==============================] - 38s 425ms/step - loss: 0.7192 - accuracy: 0.6925 - val_loss: 0.9339 - val_accuracy: 0.6267\n",
            "Epoch 68/100\n",
            "90/90 [==============================] - 38s 414ms/step - loss: 0.6902 - accuracy: 0.7083 - val_loss: 0.8965 - val_accuracy: 0.6546\n",
            "Epoch 69/100\n",
            "90/90 [==============================] - 39s 436ms/step - loss: 0.6934 - accuracy: 0.7055 - val_loss: 1.0518 - val_accuracy: 0.6017\n",
            "Epoch 70/100\n",
            "90/90 [==============================] - 39s 430ms/step - loss: 0.7326 - accuracy: 0.6802 - val_loss: 0.9359 - val_accuracy: 0.6546\n",
            "Epoch 71/100\n",
            "90/90 [==============================] - 38s 421ms/step - loss: 0.6833 - accuracy: 0.7224 - val_loss: 0.8867 - val_accuracy: 0.6657\n",
            "Epoch 72/100\n",
            "90/90 [==============================] - 38s 420ms/step - loss: 0.6758 - accuracy: 0.7188 - val_loss: 0.9305 - val_accuracy: 0.6518\n",
            "Epoch 73/100\n",
            "90/90 [==============================] - 38s 421ms/step - loss: 0.6744 - accuracy: 0.7196 - val_loss: 0.8767 - val_accuracy: 0.6713\n",
            "Epoch 74/100\n",
            "90/90 [==============================] - 37s 415ms/step - loss: 0.6484 - accuracy: 0.7280 - val_loss: 0.9521 - val_accuracy: 0.6769\n",
            "Epoch 75/100\n",
            "90/90 [==============================] - 38s 416ms/step - loss: 0.6469 - accuracy: 0.7210 - val_loss: 0.8732 - val_accuracy: 0.6574\n",
            "Epoch 76/100\n",
            "90/90 [==============================] - 38s 416ms/step - loss: 0.6425 - accuracy: 0.7248 - val_loss: 0.9416 - val_accuracy: 0.6852\n",
            "Epoch 77/100\n",
            "90/90 [==============================] - 38s 418ms/step - loss: 0.6651 - accuracy: 0.7185 - val_loss: 0.8943 - val_accuracy: 0.6713\n",
            "Epoch 78/100\n",
            "90/90 [==============================] - 38s 417ms/step - loss: 0.6454 - accuracy: 0.7220 - val_loss: 0.9373 - val_accuracy: 0.6462\n",
            "Epoch 79/100\n",
            "90/90 [==============================] - 37s 415ms/step - loss: 0.6457 - accuracy: 0.7245 - val_loss: 0.9772 - val_accuracy: 0.6435\n",
            "Epoch 80/100\n",
            "90/90 [==============================] - 38s 421ms/step - loss: 0.6607 - accuracy: 0.7297 - val_loss: 0.9733 - val_accuracy: 0.6630\n",
            "Epoch 81/100\n",
            "90/90 [==============================] - 38s 419ms/step - loss: 0.6511 - accuracy: 0.7220 - val_loss: 0.9874 - val_accuracy: 0.6797\n",
            "Epoch 82/100\n",
            "90/90 [==============================] - 38s 415ms/step - loss: 0.6350 - accuracy: 0.7315 - val_loss: 0.9736 - val_accuracy: 0.6657\n",
            "Epoch 83/100\n",
            "90/90 [==============================] - 38s 415ms/step - loss: 0.6365 - accuracy: 0.7378 - val_loss: 1.1050 - val_accuracy: 0.6240\n",
            "Epoch 84/100\n",
            "90/90 [==============================] - 38s 424ms/step - loss: 0.6406 - accuracy: 0.7301 - val_loss: 0.9308 - val_accuracy: 0.6685\n",
            "Epoch 85/100\n",
            "90/90 [==============================] - 38s 424ms/step - loss: 0.6390 - accuracy: 0.7311 - val_loss: 1.0134 - val_accuracy: 0.6574\n",
            "Epoch 86/100\n",
            "90/90 [==============================] - 38s 424ms/step - loss: 0.6221 - accuracy: 0.7403 - val_loss: 0.9912 - val_accuracy: 0.6713\n",
            "Epoch 87/100\n",
            "90/90 [==============================] - 37s 413ms/step - loss: 0.6387 - accuracy: 0.7273 - val_loss: 1.0158 - val_accuracy: 0.6741\n",
            "Epoch 88/100\n",
            "90/90 [==============================] - 37s 414ms/step - loss: 0.6198 - accuracy: 0.7382 - val_loss: 0.9919 - val_accuracy: 0.6602\n",
            "Epoch 89/100\n",
            "90/90 [==============================] - 38s 416ms/step - loss: 0.6451 - accuracy: 0.7280 - val_loss: 0.9546 - val_accuracy: 0.6769\n",
            "Epoch 90/100\n",
            "90/90 [==============================] - 37s 413ms/step - loss: 0.6439 - accuracy: 0.7259 - val_loss: 1.0495 - val_accuracy: 0.6490\n",
            "Epoch 91/100\n",
            "90/90 [==============================] - 38s 417ms/step - loss: 0.6816 - accuracy: 0.7164 - val_loss: 1.0204 - val_accuracy: 0.6295\n",
            "Epoch 92/100\n",
            "90/90 [==============================] - 39s 429ms/step - loss: 0.6674 - accuracy: 0.7136 - val_loss: 1.0213 - val_accuracy: 0.6240\n",
            "Epoch 93/100\n",
            "90/90 [==============================] - 38s 416ms/step - loss: 0.6670 - accuracy: 0.7136 - val_loss: 0.9651 - val_accuracy: 0.6769\n",
            "Epoch 94/100\n",
            "90/90 [==============================] - 38s 425ms/step - loss: 0.6364 - accuracy: 0.7266 - val_loss: 1.0460 - val_accuracy: 0.6741\n",
            "Epoch 95/100\n",
            "90/90 [==============================] - 38s 419ms/step - loss: 0.6417 - accuracy: 0.7325 - val_loss: 0.9898 - val_accuracy: 0.6490\n",
            "Epoch 96/100\n",
            "90/90 [==============================] - 38s 418ms/step - loss: 0.6340 - accuracy: 0.7287 - val_loss: 1.0108 - val_accuracy: 0.6852\n",
            "Epoch 97/100\n",
            "90/90 [==============================] - 37s 410ms/step - loss: 0.6606 - accuracy: 0.7199 - val_loss: 1.0234 - val_accuracy: 0.6407\n",
            "Epoch 98/100\n",
            "90/90 [==============================] - 38s 419ms/step - loss: 0.6013 - accuracy: 0.7494 - val_loss: 1.0085 - val_accuracy: 0.6518\n",
            "Epoch 99/100\n",
            "90/90 [==============================] - 38s 424ms/step - loss: 0.6375 - accuracy: 0.7290 - val_loss: 1.0049 - val_accuracy: 0.6462\n",
            "Epoch 100/100\n",
            "90/90 [==============================] - 39s 426ms/step - loss: 0.6032 - accuracy: 0.7543 - val_loss: 0.9998 - val_accuracy: 0.6518\n"
          ]
        }
      ]
    },
    {
      "cell_type": "markdown",
      "source": [
        "**SAVE** **THE** **MODEL**"
      ],
      "metadata": {
        "id": "cfolpwdKo2C4"
      }
    },
    {
      "cell_type": "code",
      "source": [
        "model.save(\"/content/drive/MyDrive/flowermodel.h5\")"
      ],
      "metadata": {
        "id": "juGmpdfDhapv"
      },
      "execution_count": 13,
      "outputs": []
    },
    {
      "cell_type": "markdown",
      "source": [
        "**TEST** **THE** **MODEL**"
      ],
      "metadata": {
        "id": "5rEzbQBYo6Ec"
      }
    },
    {
      "cell_type": "code",
      "source": [
        "import matplotlib.pyplot as plt"
      ],
      "metadata": {
        "id": "qwHIqOmko-lJ"
      },
      "execution_count": 14,
      "outputs": []
    },
    {
      "cell_type": "code",
      "source": [
        "plt.plot(tom.history['accuracy'], label='accuracy')\n",
        "plt.plot(tom.history['val_accuracy'], label = 'val_accuracy')\n",
        "plt.xlabel('Epoch')\n",
        "plt.ylabel('Accuracy')\n",
        "plt.ylim([0.5, 1])\n",
        "plt.legend(loc='lower right')\n",
        "\n",
        "test_loss, test_acc = model.evaluate(x_test, verbose=2)"
      ],
      "metadata": {
        "colab": {
          "base_uri": "https://localhost:8080/",
          "height": 301
        },
        "id": "qLINHDRxtq87",
        "outputId": "e3edffdd-59f8-4bf7-a741-b55a449ad1be"
      },
      "execution_count": 15,
      "outputs": [
        {
          "output_type": "stream",
          "name": "stdout",
          "text": [
            "12/12 - 2s - loss: 0.9998 - accuracy: 0.6518 - 2s/epoch - 188ms/step\n"
          ]
        },
        {
          "output_type": "display_data",
          "data": {
            "text/plain": [
              "<Figure size 432x288 with 1 Axes>"
            ],
            "image/png": "[encoded data removed]"
          },
          "metadata": {
            "needs_background": "light"
          }
        }
      ]
    },
    {
      "cell_type": "code",
      "source": [
        "print(test_acc)"
      ],
      "metadata": {
        "colab": {
          "base_uri": "https://localhost:8080/"
        },
        "id": "750EjC0luQK-",
        "outputId": "5469a0c0-466f-4dc6-f169-e37aa51e2ce2"
      },
      "execution_count": 16,
      "outputs": [
        {
          "output_type": "stream",
          "name": "stdout",
          "text": [
            "0.6518105864524841\n"
          ]
        }
      ]
    }
  ]
}